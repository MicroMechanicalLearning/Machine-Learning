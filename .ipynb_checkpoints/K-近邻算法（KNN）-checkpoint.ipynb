{
 "cells": [
  {
   "cell_type": "code",
   "execution_count": 11,
   "metadata": {},
   "outputs": [],
   "source": [
    "#加载基础的简单数据\n",
    "from numpy import *\n",
    "import operator\n",
    "#创建原始训练集\n",
    "def createDataSet():\n",
    "    group=array([[1.0,1.0],[1.0,1.0],[0,0],[0,0.1]])   #训练集\n",
    "    labels=['A','A','B','B']    #训练集标签\n",
    "    return group,labels"
   ]
  },
  {
   "cell_type": "code",
   "execution_count": 2,
   "metadata": {},
   "outputs": [],
   "source": [
    "# K-近邻算法的伪代码\n",
    "# intX 是测试用例，dataSet是训练集，labels是训练集对应的标签，k是用于选择最近邻的数目\n",
    "def classify0(inX,dataSet,labels,k):\n",
    "    #dataset.shape[0] 就是样本集的个数\n",
    "    dataSetSize=dataSet.shape[0]  #shape是array的属性，它描写叙述了一个数组的“形状”，也就是它的维度\n",
    "    #用欧氏距离公式进行距离计算\n",
    "    ## numpy.tile进行数组的重复生成，numpy.tile(A,B)即：重复A，共B次，B可为int型或元组型（a,b）,即：按照a行b列重复A\n",
    "    diffMat=tile(inX,(dataSetSize,1))-dataSet   #类似一个矩阵的减法\n",
    "    sqDiffMat=diffMat**2\n",
    "    sqDistances=sqDiffMat.sum(axis=1)   #对列求和\n",
    "    distances=sqDistances**0.5\n",
    "    sortedDistIndicies=distances.argsort()  #argsort()是对数组升序排序的,返回的是数组值从小到大的索引值\n",
    "    classCount={}   #classCount是一个字典，key是标签。value是该标签出现的次数\n",
    "    for i in range(k):\n",
    "    \tvoteIlabel=labels[sortedDistIndicies[i]]\n",
    "    \t#dict.get(key,default=None)其中，key:表示“字典中要查找的键”，返回指定键的值，default:如果指定键的值不存在时，返回该默认值。\n",
    "    \tclassCount[voteIlabel]=classCount.get(voteIlabel,0)+1\n",
    "    sortedClassCount=sorted(classCount.items(),key=operator.itemgetter(1),reverse=True)\n",
    "    return sortedClassCount[0][0]"
   ]
  },
  {
   "cell_type": "code",
   "execution_count": 17,
   "metadata": {},
   "outputs": [
    {
     "name": "stdout",
     "output_type": "stream",
     "text": [
      "B\n"
     ]
    }
   ],
   "source": [
    "#新建一个测试文件，调用上边的函数进行测试\n",
    "# kNN.classify0([0,0],group,labels,3)\n",
    "group,labels = createDataSet()\n",
    "result=classify0([0,0], group, labels, 3)  #调用时实参分别对应于classify0函数的形参\n",
    "print(result)"
   ]
  },
  {
   "cell_type": "code",
   "execution_count": null,
   "metadata": {},
   "outputs": [],
   "source": [
    "(案例1) KNN的小例子——约会数据的判别"
   ]
  },
  {
   "cell_type": "code",
   "execution_count": null,
   "metadata": {},
   "outputs": [],
   "source": [
    "#约会案例：\n",
    "##读取文件到矩阵\n",
    "def file2matrix(filename):\n",
    "    fr=open(filename)\n",
    "    arrayOfLines=fr.readlines()\n",
    "    numberOfLines=len(arrayOfLines)   #得到文件的行数\n",
    "    returnMat=zeros((numberOfLines,3))  #定义一个全为0的矩阵\n",
    "    classLabelVector=[]\n",
    "    index=0\n",
    "    for line in arrayOfLines:\n",
    "    \tline =line.strip()   #截取掉所有的回车符\n",
    "    \tlistFromLine=line.strip('\\t')   #制表符\n",
    "    \treturnMat[index,:]=listFromLine[0:3]\n",
    "    \tclassLabelVector.append(int(listFromLine[-1]))\n",
    "    \tindex+=1\n",
    "    return returnMat,classLabelVector\n",
    "#准备数据：归一化数据\n",
    "#从文本数据可以看出，各个特征间的数据差值很大，故需要归一化处理\n",
    "#归一化函数\n",
    "def autoNorm(dataSet):\n",
    "\tminvals=dataSet.min(0)\n",
    "\tmaxvals=dataSet.max(0)\n",
    "\tranges=maxvals-minvals\n",
    "\tnormDataSet=zeros(shape(dataSet))\n",
    "\tm=dataSet.shape[0]\n",
    "\tnormDataSet=dataSet-tile(minvals,(m,1))\n",
    "\t# tile()函数将变量内容复制成与输入矩阵同样大小的矩阵\n",
    "\tnormDataSet=normDataSet/tile(ranges,(m,1))\n",
    "\treturn normDataSet,ranges,minvals\n",
    "\n",
    "#分类器的测试代码\n",
    "def datingClassTest():\n",
    "\thoRatio=0.10\n",
    "\tdatingDataMat,datingLabels=file2matrix(r'D:\\Learn and work\\Code\\Books\\ML_code\\Ch02\\datingTestSet2.txt')\n",
    "\tnormMat,ranges,minvals=autoNorm(datingDataMat)\n",
    "\tm=normMat.shape[0]\n",
    "\tnumTestVects=int(m*hoRatio)\n",
    "\terrorCount=0.0\n",
    "\tfor i in range(numTestVecs):\n",
    "\t\tclassifierResult=classify0(normMat[i,:],normMat[numTestVecs:m,:],datingLabels[numTestVecs:m], 3)\n",
    "\t\tprint(\"the classifier came back with:%d,the real answer is %d\" % (classifierResult, datingLabels[i]))\n",
    "\t\tif(classifierResult !=datingLabels[i]):\n",
    "\t\t\terrorCount+=1.0\n",
    "\t\tprint('the total error rate is:%f'(errorCount/float(numTestVecs)))\n",
    "\n",
    "#约会网站预测\n",
    "def classifyPerson():\n",
    "\tresultList=['not at all','in small doses', 'in large doses']\n",
    "\tpercentTats=float(input('percentage of time spent playing video games?'))\n",
    "\tffMiles=float(input('frequent fliter miles earned per year?'))\n",
    "\ticeCream=float(input('liter of ice cream consumed per year?'))\n",
    "\tdatingDataMat,datingLabels=file2matrix(r'D:\\Learn and work\\Code\\Books\\ML_code\\Ch02\\datingTestSet2.txt')\n",
    "\tnormMat,ranges,minvals=autoNorm(datingDataMat)\n",
    "\tinArr=array([ffMiles,percentTats,iceCream])\n",
    "\tclassifierResult=classify0((inArr-minVals)/ranges,normMat,datingLabels,3)\n",
    "\tprint('You will probably like this person:',resultList[classifierResult-1])\n",
    "    "
   ]
  }
 ],
 "metadata": {
  "kernelspec": {
   "display_name": "Python 3",
   "language": "python",
   "name": "python3"
  },
  "language_info": {
   "codemirror_mode": {
    "name": "ipython",
    "version": 3
   },
   "file_extension": ".py",
   "mimetype": "text/x-python",
   "name": "python",
   "nbconvert_exporter": "python",
   "pygments_lexer": "ipython3",
   "version": "3.7.2"
  }
 },
 "nbformat": 4,
 "nbformat_minor": 2
}
