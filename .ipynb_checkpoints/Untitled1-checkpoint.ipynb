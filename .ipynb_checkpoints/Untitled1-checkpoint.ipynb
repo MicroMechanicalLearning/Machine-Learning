{
 "cells": [
  {
   "cell_type": "code",
   "execution_count": 3,
   "metadata": {},
   "outputs": [],
   "source": [
    "from sklearn.model_selection import GridSearchCV\n",
    "from sklearn.metrics import make_scorer\n",
    "from sklearn.metrics import accuracy_score,roc_auc_score\n",
    "from time import time\n",
    "from sklearn.tree import DecisionTreeClassifier\n",
    "from sklearn.svm import SVC\n",
    "from sklearn.ensemble import RandomForestClassifier\n",
    "from sklearn.ensemble import AdaBoostClassifier\n",
    "from sklearn.neighbors import KNeighborsClassifier\n",
    "from xgboost.sklearn import XGBClassifier"
   ]
  },
  {
   "cell_type": "code",
   "execution_count": null,
   "metadata": {},
   "outputs": [],
   "source": [
    "#定义通用函数框架\n",
    "def fit_model(alg,parameters):\n",
    "    X=features\n",
    "    y=labels #由于数据较少，使用全部数据进行网格搜索\n",
    "    score=make_scorer(roc_auc_score)   #使用roc_auc_score作为评分标准\n",
    "    grid=GridSearchCV(alg,parameters,scoring=scorer,cv=5)\n",
    "    start=time()  #计时\n",
    "    grid=grid.fit(X,y)  #模型训练\n",
    "    end=time()\n",
    "    t=round(end-start,3)\n",
    "    print(grid.best_params_)  #输出最佳参数\n",
    "    print(\"searching time for {} is {}s\".format(alg.__class__.__name__,t))  #输出搜索时间\n",
    "    return grid  #返回训练好的模型\n",
    "\n",
    "    \n",
    "    "
   ]
  }
 ],
 "metadata": {
  "kernelspec": {
   "display_name": "Python 3",
   "language": "python",
   "name": "python3"
  }
 },
 "nbformat": 4,
 "nbformat_minor": 2
}
