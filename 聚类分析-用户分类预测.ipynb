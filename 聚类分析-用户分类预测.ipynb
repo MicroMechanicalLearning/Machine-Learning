{
 "cells": [
  {
   "cell_type": "code",
   "execution_count": 4,
   "metadata": {},
   "outputs": [
    {
     "name": "stderr",
     "output_type": "stream",
     "text": [
      "c:\\users\\evan\\appdata\\local\\programs\\python\\python37\\lib\\site-packages\\ipykernel_launcher.py:5: RuntimeWarning: invalid value encountered in sqrt\n",
      "  \"\"\"\n",
      "c:\\users\\evan\\appdata\\local\\programs\\python\\python37\\lib\\site-packages\\ipykernel_launcher.py:5: RuntimeWarning: overflow encountered in long_scalars\n",
      "  \"\"\"\n"
     ]
    },
    {
     "data": {
      "image/png": "[encoded data removed]",
      "text/plain": [
       "<Figure size 432x288 with 1 Axes>"
      ]
     },
     "metadata": {
      "needs_background": "light"
     },
     "output_type": "display_data"
    }
   ],
   "source": [
    "import numpy as np \n",
    "import matplotlib.pyplot as plt \n",
    "#两点距离\n",
    "def distance(e1,e2):\n",
    "\treturn np.sqrt((e1[0]-e2[0])**2+(e1[1]-e2[1]**2))\n",
    "#集合中心\n",
    "def means(arr):\n",
    "\treturn np.array([np.mean([e[0] for e in arr]),np.mean([e[1] for e in arr])])\n",
    "#arr中距离a最远的元素，用于初始化聚类中心\n",
    "def farthest(k_arr,arr):\n",
    "\tf=[0,0]\n",
    "\tmax_d=0\n",
    "\tfor e in arr:\n",
    "\t\td=0\n",
    "\t\tfor i in range(k_arr.__len__()):\n",
    "\t\t\td=d+np.sqrt(distance(k_arr[i],e))\n",
    "\t\tif d> max_d:\n",
    "\t\t\tmax_d=d\n",
    "\t\t\tf=e\n",
    "\treturn f\n",
    "\n",
    "# arr中距离a最近的元素，用于聚类\n",
    "def closest(a,arr):\n",
    "\tc=arr[1]\n",
    "\tmin_d=distance(a,arr[1])\n",
    "\tarr=arr[1:]\n",
    "\tfor e in arr:\n",
    "\t\td=distance(a,e)\n",
    "\t\tif d<min_d:\n",
    "\t\t\tmin_d=d\n",
    "\t\t\tc=e\n",
    "\treturn c\n",
    "\n",
    "if __name__==\"__main__\":\n",
    "\t##生成二维随机坐标（如果有数据集更好）\n",
    "\tarr=np.random.randint(100,size=(100,1,2))[:,0,:]\n",
    "\n",
    "\t##初始化聚类中心和聚类容器\n",
    "\tm=5\n",
    "\tr=np.random.randint(arr.__len__()-1)\n",
    "\tk_arr=np.array([arr[r]])\n",
    "\tcla_arr=[[]]\n",
    "\tfor i in range(m-1):\n",
    "\t\tk=farthest(k_arr,arr)\n",
    "\t\tk_arr=np.concatenate([k_arr,np.array([k])])\n",
    "\t\tcla_arr.append([])\n",
    "\n",
    "\t#迭代聚类\n",
    "\tn=20\n",
    "\tcla_temp=cla_arr\n",
    "\tfor i in range(n):   #迭代n次\n",
    "\t\tfor e in arr:  #把集合中每个元素聚到最近的类\n",
    "\t\t\tki=0       #假定距离第一个中心最近\n",
    "\t\t\tmin_d=distance(e,k_arr[ki])\n",
    "\t\t\tfor j in range(1,k_arr.__len__()):\n",
    "\t\t\t\tif distance(e,k_arr[j])< min_d:    #找到更近的聚类中心\n",
    "\t\t\t\t\tmin_d=distance(e,k_arr[j])\n",
    "\t\t\t\t\tki=j\n",
    "\t\t\tcla_temp[ki].append(e)\n",
    "\t\t#迭代更新聚类中心\n",
    "\t\tfor k in range(k_arr.__len__()):\n",
    "\t\t\tif n-1==i:\n",
    "\t\t\t\tbreak\n",
    "\t\t\tk_arr[k]=means(cla_temp[k])\n",
    "\t\t\tcla_temp[k]=[]\n",
    "\n",
    "\t##可视化展示\n",
    "\tcol=[\"HotPink\",\"Aqua\",\"Chartreuse\",\"yellow\",\"LightSalmon\"]\n",
    "\tfor i in range(m):\n",
    "\t\tplt.scatter(k_arr[i][0],k_arr[i][1],linewidth=10,color=col[i])\n",
    "\t\tplt.scatter([e[0] for e in cla_temp[i]],[e[1] for e in cla_temp[i]],color=col[i])\n",
    "\tplt.show()"
   ]
  },
  {
   "cell_type": "code",
   "execution_count": null,
   "metadata": {},
   "outputs": [],
   "source": []
  }
 ],
 "metadata": {
  "kernelspec": {
   "display_name": "Python 3",
   "language": "python",
   "name": "python3"
  },
  "language_info": {
   "codemirror_mode": {
    "name": "ipython",
    "version": 3
   },
   "file_extension": ".py",
   "mimetype": "text/x-python",
   "name": "python",
   "nbconvert_exporter": "python",
   "pygments_lexer": "ipython3",
   "version": "3.7.2"
  }
 },
 "nbformat": 4,
 "nbformat_minor": 2
}
