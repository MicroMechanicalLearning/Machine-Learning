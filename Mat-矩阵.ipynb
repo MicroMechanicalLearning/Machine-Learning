{
 "cells": [
  {
   "cell_type": "code",
   "execution_count": 1,
   "metadata": {},
   "outputs": [],
   "source": [
    "from numpy import * #导入numpy库的函数\n",
    "import numpy as np"
   ]
  },
  {
   "cell_type": "code",
   "execution_count": 2,
   "metadata": {},
   "outputs": [
    {
     "name": "stdout",
     "output_type": "stream",
     "text": [
      "[1 2 3]\n"
     ]
    }
   ],
   "source": [
    "#矩阵的创建\n",
    "a1=array([1,2,3])\n",
    "print(a1)"
   ]
  },
  {
   "cell_type": "code",
   "execution_count": 3,
   "metadata": {},
   "outputs": [
    {
     "data": {
      "text/plain": [
       "array([1, 2, 3])"
      ]
     },
     "execution_count": 3,
     "metadata": {},
     "output_type": "execute_result"
    }
   ],
   "source": [
    "a1"
   ]
  },
  {
   "cell_type": "code",
   "execution_count": 4,
   "metadata": {},
   "outputs": [
    {
     "data": {
      "text/plain": [
       "matrix([[1, 2, 3]])"
      ]
     },
     "execution_count": 4,
     "metadata": {},
     "output_type": "execute_result"
    }
   ],
   "source": [
    "a1=mat(a1)\n",
    "a1"
   ]
  },
  {
   "cell_type": "markdown",
   "metadata": {},
   "source": [
    "print(a1)"
   ]
  },
  {
   "cell_type": "markdown",
   "metadata": {},
   "source": [
    "shape(a1)"
   ]
  },
  {
   "cell_type": "markdown",
   "metadata": {},
   "source": [
    "b=matrix([1,2,3])\n",
    "shape(b)"
   ]
  },
  {
   "cell_type": "code",
   "execution_count": 9,
   "metadata": {},
   "outputs": [
    {
     "data": {
      "text/plain": [
       "matrix([[0., 0., 0.],\n",
       "        [0., 0., 0.],\n",
       "        [0., 0., 0.]])"
      ]
     },
     "execution_count": 9,
     "metadata": {},
     "output_type": "execute_result"
    }
   ],
   "source": [
    "#创建常见矩阵\n",
    "#(1)创建一个3*3的零矩阵\n",
    "data1=mat(zeros((3,3)))\n",
    "data1"
   ]
  },
  {
   "cell_type": "code",
   "execution_count": 11,
   "metadata": {},
   "outputs": [
    {
     "data": {
      "text/plain": [
       "matrix([[1., 1., 1., 1.],\n",
       "        [1., 1., 1., 1.]])"
      ]
     },
     "execution_count": 11,
     "metadata": {},
     "output_type": "execute_result"
    }
   ],
   "source": [
    "#创建一个2*4的1矩阵，默认为浮点型\n",
    "data2=mat(ones((2,4)))\n",
    "data2"
   ]
  },
  {
   "cell_type": "code",
   "execution_count": 12,
   "metadata": {},
   "outputs": [
    {
     "data": {
      "text/plain": [
       "matrix([[9.97842780e-01, 3.60501500e-01],\n",
       "        [4.82033669e-01, 8.70568987e-04]])"
      ]
     },
     "execution_count": 12,
     "metadata": {},
     "output_type": "execute_result"
    }
   ],
   "source": [
    "#这里的random模块使用的是numpy中的random模块，\n",
    "#random.rand(2,2)创建的是一个二维数组，需要将其转换成#matrix\n",
    "data3=mat(random.rand(2,2))\n",
    "data3"
   ]
  },
  {
   "cell_type": "code",
   "execution_count": 19,
   "metadata": {},
   "outputs": [
    {
     "data": {
      "text/plain": [
       "matrix([[8, 1, 3],\n",
       "        [8, 6, 1],\n",
       "        [1, 3, 7]])"
      ]
     },
     "execution_count": 19,
     "metadata": {},
     "output_type": "execute_result"
    }
   ],
   "source": [
    "#生成一个3*3的0-10之间的随机整数,如果需要指定下界则可以多加一个参数\n",
    "data4=mat(random.randint(10,size=(3,3)))  \n",
    "data4"
   ]
  },
  {
   "cell_type": "code",
   "execution_count": 20,
   "metadata": {},
   "outputs": [
    {
     "data": {
      "text/plain": [
       "matrix([[6, 5, 5, 5, 7],\n",
       "        [2, 4, 3, 4, 7]])"
      ]
     },
     "execution_count": 20,
     "metadata": {},
     "output_type": "execute_result"
    }
   ],
   "source": [
    "#产生一个2-8之间的随机整数矩阵\n",
    "data5=mat(random.randint(2,8,size=(2,5)))\n",
    "data5"
   ]
  },
  {
   "cell_type": "code",
   "execution_count": 23,
   "metadata": {},
   "outputs": [
    {
     "data": {
      "text/plain": [
       "matrix([[1, 0],\n",
       "        [0, 1]])"
      ]
     },
     "execution_count": 23,
     "metadata": {},
     "output_type": "execute_result"
    }
   ],
   "source": [
    "#产生一个2*2的对角矩阵\n",
    "data6=mat(eye(2,2,dtype=int))\n",
    "data6"
   ]
  },
  {
   "cell_type": "code",
   "execution_count": 24,
   "metadata": {},
   "outputs": [
    {
     "data": {
      "text/plain": [
       "matrix([[1, 0, 0],\n",
       "        [0, 2, 0],\n",
       "        [0, 0, 3]])"
      ]
     },
     "execution_count": 24,
     "metadata": {},
     "output_type": "execute_result"
    }
   ],
   "source": [
    "#生成一个对角线为1，2，3的对角矩阵\n",
    "a1=[1,2,3]\n",
    "a2=mat(diag(a1))\n",
    "a2"
   ]
  },
  {
   "cell_type": "code",
   "execution_count": 25,
   "metadata": {},
   "outputs": [
    {
     "data": {
      "text/plain": [
       "matrix([[5]])"
      ]
     },
     "execution_count": 25,
     "metadata": {},
     "output_type": "execute_result"
    }
   ],
   "source": [
    "#常见的矩阵运算\n",
    "#矩阵相乘\n",
    "a1=mat([1,2])\n",
    "a2=mat([[1],[2]])  #1*2的矩阵乘以2*1的矩阵，得到1*1的矩阵\n",
    "a3=a1*a2\n",
    "a3"
   ]
  },
  {
   "cell_type": "code",
   "execution_count": 27,
   "metadata": {},
   "outputs": [
    {
     "data": {
      "text/plain": [
       "matrix([[6, 2]])"
      ]
     },
     "execution_count": 27,
     "metadata": {},
     "output_type": "execute_result"
    }
   ],
   "source": [
    "#矩阵的点乘\n",
    "a1=mat([3,1])\n",
    "a2=mat([2,2])\n",
    "a3=multiply(a1,a2)\n",
    "a3"
   ]
  },
  {
   "cell_type": "code",
   "execution_count": 28,
   "metadata": {},
   "outputs": [
    {
     "data": {
      "text/plain": [
       "matrix([[0.5, 0. ],\n",
       "        [0. , 0.5]])"
      ]
     },
     "execution_count": 28,
     "metadata": {},
     "output_type": "execute_result"
    }
   ],
   "source": [
    "#矩阵求逆，转置\n",
    "a1=mat(eye(2,2)*0.5)   #mat(eye(2,2))表示2*2的对角矩阵\n",
    "a1"
   ]
  },
  {
   "cell_type": "code",
   "execution_count": 30,
   "metadata": {},
   "outputs": [
    {
     "data": {
      "text/plain": [
       "matrix([[2., 0.],\n",
       "        [0., 2.]])"
      ]
     },
     "execution_count": 30,
     "metadata": {},
     "output_type": "execute_result"
    }
   ],
   "source": [
    "a2=a1.I    #求矩阵matrix([[0.5, 0. ],[0. , 0.5]])的逆矩阵\n",
    "a2"
   ]
  },
  {
   "cell_type": "code",
   "execution_count": 31,
   "metadata": {},
   "outputs": [
    {
     "data": {
      "text/plain": [
       "matrix([[1, 1],\n",
       "        [0, 0]])"
      ]
     },
     "execution_count": 31,
     "metadata": {},
     "output_type": "execute_result"
    }
   ],
   "source": [
    "#矩阵的转置\n",
    "a1=mat([[1,1],[0,0]])\n",
    "a1"
   ]
  },
  {
   "cell_type": "code",
   "execution_count": 33,
   "metadata": {},
   "outputs": [
    {
     "data": {
      "text/plain": [
       "matrix([[1, 0],\n",
       "        [1, 0]])"
      ]
     },
     "execution_count": 33,
     "metadata": {},
     "output_type": "execute_result"
    }
   ],
   "source": [
    "a2=a1.T\n",
    "a2"
   ]
  },
  {
   "cell_type": "code",
   "execution_count": 34,
   "metadata": {},
   "outputs": [
    {
     "data": {
      "text/plain": [
       "matrix([[1, 1],\n",
       "        [2, 3],\n",
       "        [4, 2]])"
      ]
     },
     "execution_count": 34,
     "metadata": {},
     "output_type": "execute_result"
    }
   ],
   "source": [
    "#计算矩阵对应行列的最大值、最小值以及和\n",
    "a1=mat([[1,1],[2,3],[4,2]])\n",
    "a1"
   ]
  },
  {
   "cell_type": "code",
   "execution_count": 35,
   "metadata": {},
   "outputs": [
    {
     "data": {
      "text/plain": [
       "matrix([[7, 6]])"
      ]
     },
     "execution_count": 35,
     "metadata": {},
     "output_type": "execute_result"
    }
   ],
   "source": [
    "#计算每一列、行的和\n",
    "a2=a1.sum(axis=0)   #列和，得到1*2的矩阵\n",
    "a2"
   ]
  },
  {
   "cell_type": "code",
   "execution_count": 36,
   "metadata": {},
   "outputs": [
    {
     "data": {
      "text/plain": [
       "matrix([[2],\n",
       "        [5],\n",
       "        [6]])"
      ]
     },
     "execution_count": 36,
     "metadata": {},
     "output_type": "execute_result"
    }
   ],
   "source": [
    "a3=a1.sum(axis=1)  #行和，得到3*1的矩阵\n",
    "a3"
   ]
  },
  {
   "cell_type": "code",
   "execution_count": 37,
   "metadata": {},
   "outputs": [
    {
     "data": {
      "text/plain": [
       "5"
      ]
     },
     "execution_count": 37,
     "metadata": {},
     "output_type": "execute_result"
    }
   ],
   "source": [
    "a4=sum(a1[1,:])  #计算第一行所有列的和，这里得到一个数值\n",
    "a4    #第0行：1+1；第1行：2+3；第2行：4+2"
   ]
  },
  {
   "cell_type": "code",
   "execution_count": 43,
   "metadata": {},
   "outputs": [
    {
     "data": {
      "text/plain": [
       "matrix([[3]])"
      ]
     },
     "execution_count": 43,
     "metadata": {},
     "output_type": "execute_result"
    }
   ],
   "source": [
    "#计算最大、最小值和索引 \n",
    "a1.max()   #计算a1矩阵中所有元素的最大值，结果为一个数值\n",
    "a2=max(a1[:,1])  #计算第二列的最大值，这里得到的是一个1*1的矩阵\n",
    "#等价于\n",
    "a2=(a1[:,1]).max() "
   ]
  },
  {
   "cell_type": "code",
   "execution_count": 45,
   "metadata": {},
   "outputs": [
    {
     "data": {
      "text/plain": [
       "3"
      ]
     },
     "execution_count": 45,
     "metadata": {},
     "output_type": "execute_result"
    }
   ],
   "source": [
    "(a1[1,:]).max()  #计算第二行的最大值，这里得到的是一个一个数值"
   ]
  },
  {
   "cell_type": "code",
   "execution_count": 51,
   "metadata": {},
   "outputs": [
    {
     "data": {
      "text/plain": [
       "matrix([[4, 3]])"
      ]
     },
     "execution_count": 51,
     "metadata": {},
     "output_type": "execute_result"
    }
   ],
   "source": [
    "np.max(a1,0)  #0表示矩阵的列,计算所有列的最大值，这里使用的是numpy中的max函数"
   ]
  },
  {
   "cell_type": "code",
   "execution_count": 52,
   "metadata": {},
   "outputs": [
    {
     "data": {
      "text/plain": [
       "matrix([[1],\n",
       "        [3],\n",
       "        [4]])"
      ]
     },
     "execution_count": 52,
     "metadata": {},
     "output_type": "execute_result"
    }
   ],
   "source": [
    "np.max(a1,1)  #计算所有行的最大值，这里得到是一个矩阵"
   ]
  },
  {
   "cell_type": "code",
   "execution_count": 53,
   "metadata": {},
   "outputs": [
    {
     "data": {
      "text/plain": [
       "matrix([[2, 1]], dtype=int64)"
      ]
     },
     "execution_count": 53,
     "metadata": {},
     "output_type": "execute_result"
    }
   ],
   "source": [
    "np.argmax(a1,0)  #计算所有列的最大值对应在该列中的索引"
   ]
  },
  {
   "cell_type": "code",
   "execution_count": 54,
   "metadata": {},
   "outputs": [
    {
     "data": {
      "text/plain": [
       "1"
      ]
     },
     "execution_count": 54,
     "metadata": {},
     "output_type": "execute_result"
    }
   ],
   "source": [
    "np.argmax(a1[1,:])  #计算第二行中最大值对应在该行中的索引"
   ]
  },
  {
   "cell_type": "code",
   "execution_count": 55,
   "metadata": {},
   "outputs": [
    {
     "data": {
      "text/plain": [
       "matrix([[1., 1., 1.],\n",
       "        [1., 1., 1.],\n",
       "        [1., 1., 1.]])"
      ]
     },
     "execution_count": 55,
     "metadata": {},
     "output_type": "execute_result"
    }
   ],
   "source": [
    "#矩阵的分隔和合并\n",
    "#矩阵的分隔用列表、数组的分隔一致\n",
    "a=mat(ones((3,3)))\n",
    "a"
   ]
  },
  {
   "cell_type": "code",
   "execution_count": 56,
   "metadata": {},
   "outputs": [
    {
     "data": {
      "text/plain": [
       "matrix([[1., 1.],\n",
       "        [1., 1.]])"
      ]
     },
     "execution_count": 56,
     "metadata": {},
     "output_type": "execute_result"
    }
   ],
   "source": [
    "b=a[1:,1:]  #分割出第二行以后的行和第二列以后的列的所有元素\n",
    "b"
   ]
  },
  {
   "cell_type": "code",
   "execution_count": 57,
   "metadata": {},
   "outputs": [
    {
     "data": {
      "text/plain": [
       "matrix([[1., 1.],\n",
       "        [1., 1.]])"
      ]
     },
     "execution_count": 57,
     "metadata": {},
     "output_type": "execute_result"
    }
   ],
   "source": [
    "#矩阵的合并\n",
    "a=mat(ones((2,2)))\n",
    "a"
   ]
  },
  {
   "cell_type": "code",
   "execution_count": 58,
   "metadata": {},
   "outputs": [
    {
     "data": {
      "text/plain": [
       "matrix([[1., 0.],\n",
       "        [0., 1.]])"
      ]
     },
     "execution_count": 58,
     "metadata": {},
     "output_type": "execute_result"
    }
   ],
   "source": [
    "b=mat(eye(2))\n",
    "b"
   ]
  },
  {
   "cell_type": "code",
   "execution_count": 60,
   "metadata": {},
   "outputs": [
    {
     "data": {
      "text/plain": [
       "matrix([[1., 1.],\n",
       "        [1., 1.],\n",
       "        [1., 0.],\n",
       "        [0., 1.]])"
      ]
     },
     "execution_count": 60,
     "metadata": {},
     "output_type": "execute_result"
    }
   ],
   "source": [
    "#矩阵的拼接/切分\n",
    "#np.vstack()  竖着拼接，np.hstack()横着拼接\n",
    "#np.vsplit()  竖着切分，\n",
    "c=vstack((a,b))   #按列合并，即增加行数\n",
    "c"
   ]
  },
  {
   "cell_type": "code",
   "execution_count": 61,
   "metadata": {},
   "outputs": [
    {
     "data": {
      "text/plain": [
       "matrix([[1., 1., 1., 0.],\n",
       "        [1., 1., 0., 1.]])"
      ]
     },
     "execution_count": 61,
     "metadata": {},
     "output_type": "execute_result"
    }
   ],
   "source": [
    "d=hstack((a,b))   #按行合并，即行数不变，扩展列数\n",
    "d"
   ]
  },
  {
   "cell_type": "code",
   "execution_count": 131,
   "metadata": {},
   "outputs": [
    {
     "name": "stdout",
     "output_type": "stream",
     "text": [
      "[[10 11 20 21]\n",
      " [12 13 22 23]]\n",
      "[[10 11]\n",
      " [12 13]\n",
      " [20 21]\n",
      " [22 23]]\n",
      "[[1. 7. 0. 3. 0. 7. 6. 0. 2. 0. 6. 5.]\n",
      " [3. 0. 9. 1. 7. 3. 7. 4. 8. 0. 4. 5.]]\n",
      "[array([[1., 7., 0., 3.],\n",
      "       [3., 0., 9., 1.]]), array([[0., 7., 6., 0.],\n",
      "       [7., 3., 7., 4.]]), array([[2., 0., 6., 5.],\n",
      "       [8., 0., 4., 5.]])]\n",
      "[array([[1., 7., 0.],\n",
      "       [3., 0., 9.]]), array([[3., 0.],\n",
      "       [1., 7.]]), array([[7., 6., 0., 2., 0., 6., 5.],\n",
      "       [3., 7., 4., 8., 0., 4., 5.]])]\n"
     ]
    }
   ],
   "source": [
    "#ndarray的拼接/切分\n",
    "#np.vstack()  竖着拼接，np.hstack()横着拼接\n",
    "#np.vsplit()  竖着切分，\n",
    "n1=np.array([[10,11],\n",
    "             [12,13]])\n",
    "n2=np.array([[20,21],\n",
    "             [22,23]])\n",
    "hstack=np.hstack((n1,n2))   #横向拼接\n",
    "print(hstack)\n",
    "vstack=np.vstack((n1,n2))  #竖向拼接\n",
    "print(vstack)\n",
    "#np.hsplit()  #横向切分\n",
    "n3=np.floor(10*np.random.random((2,12)))\n",
    "print(n3)\n",
    "print(np.hsplit(n3,3))\n",
    "print(np.hsplit(n3,(3,5)))  #指定切分位置\n",
    "#np.vsplit()   #竖着切\n",
    "n4=n3.T\n",
    "print(n4)"
   ]
  },
  {
   "cell_type": "code",
   "execution_count": 133,
   "metadata": {},
   "outputs": [
    {
     "name": "stdout",
     "output_type": "stream",
     "text": [
      "[[1. 3.]\n",
      " [7. 0.]\n",
      " [0. 9.]\n",
      " [3. 1.]\n",
      " [0. 7.]\n",
      " [7. 3.]\n",
      " [6. 7.]\n",
      " [0. 4.]\n",
      " [2. 8.]\n",
      " [0. 0.]\n",
      " [6. 4.]\n",
      " [5. 5.]]\n",
      "[array([[1., 3.],\n",
      "       [7., 0.],\n",
      "       [0., 9.],\n",
      "       [3., 1.]]), array([[0., 7.],\n",
      "       [7., 3.],\n",
      "       [6., 7.],\n",
      "       [0., 4.]]), array([[2., 8.],\n",
      "       [0., 0.],\n",
      "       [6., 4.],\n",
      "       [5., 5.]])]\n"
     ]
    }
   ],
   "source": [
    "n4=n3.T\n",
    "print(n4)\n",
    "print(np.vsplit(n4,3))"
   ]
  },
  {
   "cell_type": "code",
   "execution_count": 63,
   "metadata": {},
   "outputs": [
    {
     "data": {
      "text/plain": [
       "[[1], 'hello', 3]"
      ]
     },
     "execution_count": 63,
     "metadata": {},
     "output_type": "execute_result"
    }
   ],
   "source": [
    "#矩阵、列表、数组的转换\n",
    "#列表可以修改，且列表中元素可以使用不同类型的数据\n",
    "list1=[[1],'hello',3]\n",
    "list1"
   ]
  },
  {
   "cell_type": "code",
   "execution_count": 64,
   "metadata": {},
   "outputs": [
    {
     "data": {
      "text/plain": [
       "array([[2],\n",
       "       [1]])"
      ]
     },
     "execution_count": 64,
     "metadata": {},
     "output_type": "execute_result"
    }
   ],
   "source": [
    "#然而，numpy中数组，同一个数组中所有元素必须为同一个类型，有几个常见的属性：\n",
    "a=array([[2],[1]])\n",
    "a"
   ]
  },
  {
   "cell_type": "code",
   "execution_count": 66,
   "metadata": {},
   "outputs": [
    {
     "data": {
      "text/plain": [
       "2"
      ]
     },
     "execution_count": 66,
     "metadata": {},
     "output_type": "execute_result"
    }
   ],
   "source": [
    "diemnsion=a.ndim   #\n",
    "diemnsion"
   ]
  },
  {
   "cell_type": "code",
   "execution_count": 67,
   "metadata": {},
   "outputs": [],
   "source": [
    "m,n=a.shape   #m,n分别表示行、列数"
   ]
  },
  {
   "cell_type": "code",
   "execution_count": 68,
   "metadata": {},
   "outputs": [
    {
     "data": {
      "text/plain": [
       "2"
      ]
     },
     "execution_count": 68,
     "metadata": {},
     "output_type": "execute_result"
    }
   ],
   "source": [
    "m"
   ]
  },
  {
   "cell_type": "code",
   "execution_count": 69,
   "metadata": {},
   "outputs": [
    {
     "data": {
      "text/plain": [
       "1"
      ]
     },
     "execution_count": 69,
     "metadata": {},
     "output_type": "execute_result"
    }
   ],
   "source": [
    "n"
   ]
  },
  {
   "cell_type": "code",
   "execution_count": 71,
   "metadata": {},
   "outputs": [
    {
     "data": {
      "text/plain": [
       "2"
      ]
     },
     "execution_count": 71,
     "metadata": {},
     "output_type": "execute_result"
    }
   ],
   "source": [
    "number=a.size   #元素的总个数\n",
    "number"
   ]
  },
  {
   "cell_type": "code",
   "execution_count": 72,
   "metadata": {},
   "outputs": [
    {
     "data": {
      "text/plain": [
       "dtype('int32')"
      ]
     },
     "execution_count": 72,
     "metadata": {},
     "output_type": "execute_result"
    }
   ],
   "source": [
    "str=a.dtype   #元素的类型\n",
    "str"
   ]
  },
  {
   "cell_type": "code",
   "execution_count": 73,
   "metadata": {},
   "outputs": [
    {
     "data": {
      "text/plain": [
       "[[1, 2], [3, 2], [5, 2]]"
      ]
     },
     "execution_count": 73,
     "metadata": {},
     "output_type": "execute_result"
    }
   ],
   "source": [
    "# numpy中的矩阵也有与数组常见的几个属性。 \n",
    "# 它们之间的转换：\n",
    "a1=[[1,2],[3,2],[5,2]]   #列表\n",
    "a1"
   ]
  },
  {
   "cell_type": "code",
   "execution_count": 74,
   "metadata": {},
   "outputs": [
    {
     "data": {
      "text/plain": [
       "array([[1, 2],\n",
       "       [3, 2],\n",
       "       [5, 2]])"
      ]
     },
     "execution_count": 74,
     "metadata": {},
     "output_type": "execute_result"
    }
   ],
   "source": [
    "a2=array(a1)   #按列表转换成二维数组\n",
    "a2"
   ]
  },
  {
   "cell_type": "code",
   "execution_count": 75,
   "metadata": {},
   "outputs": [
    {
     "data": {
      "text/plain": [
       "matrix([[1, 2],\n",
       "        [3, 2],\n",
       "        [5, 2]])"
      ]
     },
     "execution_count": 75,
     "metadata": {},
     "output_type": "execute_result"
    }
   ],
   "source": [
    "a3=mat(a1)  #将列表转化成矩阵\n",
    "a3"
   ]
  },
  {
   "cell_type": "code",
   "execution_count": 76,
   "metadata": {},
   "outputs": [
    {
     "data": {
      "text/plain": [
       "array([[1, 2],\n",
       "       [3, 2],\n",
       "       [5, 2]])"
      ]
     },
     "execution_count": 76,
     "metadata": {},
     "output_type": "execute_result"
    }
   ],
   "source": [
    "a4=array(a3)   #将矩阵转换为数组\n",
    "a4"
   ]
  },
  {
   "cell_type": "code",
   "execution_count": 77,
   "metadata": {},
   "outputs": [
    {
     "data": {
      "text/plain": [
       "array([[1, 2],\n",
       "       [3, 2],\n",
       "       [5, 2]])"
      ]
     },
     "execution_count": 77,
     "metadata": {},
     "output_type": "execute_result"
    }
   ],
   "source": [
    "a41=a3.getA()   ##将矩阵转换成数组\n",
    "a41"
   ]
  },
  {
   "cell_type": "code",
   "execution_count": 78,
   "metadata": {},
   "outputs": [
    {
     "data": {
      "text/plain": [
       "[[1, 2], [3, 2], [5, 2]]"
      ]
     },
     "execution_count": 78,
     "metadata": {},
     "output_type": "execute_result"
    }
   ],
   "source": [
    "a5=a3.tolist()   #将矩阵转换为列表\n",
    "a5"
   ]
  },
  {
   "cell_type": "code",
   "execution_count": 81,
   "metadata": {},
   "outputs": [
    {
     "data": {
      "text/plain": [
       "[[1, 2], [3, 2], [5, 2]]"
      ]
     },
     "execution_count": 81,
     "metadata": {},
     "output_type": "execute_result"
    }
   ],
   "source": [
    "a6=a2.tolist()   ##将数组转换成列表\n",
    "a6"
   ]
  },
  {
   "cell_type": "code",
   "execution_count": 82,
   "metadata": {},
   "outputs": [
    {
     "data": {
      "text/plain": [
       "array([1, 2, 3])"
      ]
     },
     "execution_count": 82,
     "metadata": {},
     "output_type": "execute_result"
    }
   ],
   "source": [
    "#这里可以发现三者之间的转换是非常简单的，这里需要注意的是，当列表是一维的时候，将它转换成数组和矩阵后，再通过tolist()转换成列表是不相同的，需要做一些小小的修改。如下：\n",
    "a1=[1,2,3]\n",
    "a2=array(a1)\n",
    "a2"
   ]
  },
  {
   "cell_type": "code",
   "execution_count": 83,
   "metadata": {},
   "outputs": [
    {
     "data": {
      "text/plain": [
       "matrix([[1, 2, 3]])"
      ]
     },
     "execution_count": 83,
     "metadata": {},
     "output_type": "execute_result"
    }
   ],
   "source": [
    "a3=mat(a1)\n",
    "a3"
   ]
  },
  {
   "cell_type": "code",
   "execution_count": 84,
   "metadata": {},
   "outputs": [
    {
     "data": {
      "text/plain": [
       "[1, 2, 3]"
      ]
     },
     "execution_count": 84,
     "metadata": {},
     "output_type": "execute_result"
    }
   ],
   "source": [
    "a4=a2.tolist()\n",
    "a4"
   ]
  },
  {
   "cell_type": "code",
   "execution_count": 87,
   "metadata": {},
   "outputs": [
    {
     "data": {
      "text/plain": [
       "[[1, 2, 3]]"
      ]
     },
     "execution_count": 87,
     "metadata": {},
     "output_type": "execute_result"
    }
   ],
   "source": [
    "a5=a3.tolist()\n",
    "a5"
   ]
  },
  {
   "cell_type": "code",
   "execution_count": 88,
   "metadata": {},
   "outputs": [
    {
     "data": {
      "text/plain": [
       "False"
      ]
     },
     "execution_count": 88,
     "metadata": {},
     "output_type": "execute_result"
    }
   ],
   "source": [
    "a6=(a4==a5)\n",
    "a6"
   ]
  },
  {
   "cell_type": "code",
   "execution_count": 96,
   "metadata": {},
   "outputs": [
    {
     "data": {
      "text/plain": [
       "True"
      ]
     },
     "execution_count": 96,
     "metadata": {},
     "output_type": "execute_result"
    }
   ],
   "source": [
    "a7=(a4 == a5[0])\n",
    "a7"
   ]
  },
  {
   "cell_type": "code",
   "execution_count": 93,
   "metadata": {},
   "outputs": [
    {
     "data": {
      "text/plain": [
       "[1, 2, 3]"
      ]
     },
     "execution_count": 93,
     "metadata": {},
     "output_type": "execute_result"
    }
   ],
   "source": [
    "a5[0]"
   ]
  },
  {
   "cell_type": "code",
   "execution_count": 99,
   "metadata": {},
   "outputs": [
    {
     "data": {
      "text/plain": [
       "1"
      ]
     },
     "execution_count": 99,
     "metadata": {},
     "output_type": "execute_result"
    }
   ],
   "source": [
    "#矩阵转换成数值，存在以下一种情况：\n",
    "dataMat=mat([1])\n",
    "val=dataMat[0,0] #这个时候获取的就是矩阵的元素的数值，而不再是矩阵的类型\n",
    "val"
   ]
  },
  {
   "cell_type": "code",
   "execution_count": 100,
   "metadata": {},
   "outputs": [],
   "source": [
    "#numpy的常见数学运算\n",
    "import numpy as np\n",
    "n=np.array([[5,10,15],\n",
    "            [20,25,30],\n",
    "            [35,40,45]])"
   ]
  },
  {
   "cell_type": "code",
   "execution_count": 103,
   "metadata": {},
   "outputs": [
    {
     "name": "stdout",
     "output_type": "stream",
     "text": [
      "5\n",
      "45\n",
      "25.0\n",
      "225\n"
     ]
    }
   ],
   "source": [
    "print(n.min())   #数组n的最小值5\n",
    "print(n.max())   #数组n的最大值45\n",
    "print(n.mean())  #数组n的均值25\n",
    "print(n.sum())   #数组n所有元素的和225"
   ]
  },
  {
   "cell_type": "code",
   "execution_count": 104,
   "metadata": {},
   "outputs": [
    {
     "name": "stdout",
     "output_type": "stream",
     "text": [
      "[60 75 90]\n",
      "[ 30  75 120]\n"
     ]
    }
   ],
   "source": [
    "#指定所操作额维度，axis=0，表示列，axis=1,表示行\n",
    "print(n.sum(axis=0))\n",
    "print(n.sum(axis=1))"
   ]
  },
  {
   "cell_type": "code",
   "execution_count": 109,
   "metadata": {},
   "outputs": [
    {
     "name": "stdout",
     "output_type": "stream",
     "text": [
      "[0 1 2]\n",
      "[1.         2.71828183 7.3890561 ]\n",
      "[0.         1.         1.41421356]\n"
     ]
    }
   ],
   "source": [
    "n1=np.arange(3)\n",
    "print(n1)\n",
    "print(np.exp(n1))\n",
    "print(np.sqrt(n1))"
   ]
  },
  {
   "cell_type": "code",
   "execution_count": 110,
   "metadata": {},
   "outputs": [
    {
     "name": "stdout",
     "output_type": "stream",
     "text": [
      "[[0.55567079 0.0794295  0.02150215]\n",
      " [9.15899787 8.53893765 4.42095859]]\n",
      "[[0. 0. 0.]\n",
      " [9. 8. 4.]]\n"
     ]
    }
   ],
   "source": [
    "n2=np.random.random((2,3))*10\n",
    "#np.floor 返回不大于输入参数的最大整数。 \n",
    "# 即对于输入值 x ，将返回最大的整数 i ，使得 i <= x。 注意在Python中，向下取整总是从 0 舍入。\n",
    "n3=np.floor(n2)  \n",
    "print(n2)\n",
    "print(n3)"
   ]
  },
  {
   "cell_type": "code",
   "execution_count": 111,
   "metadata": {},
   "outputs": [
    {
     "name": "stdout",
     "output_type": "stream",
     "text": [
      "[[4 3 5]\n",
      " [1 6 1]]\n"
     ]
    }
   ],
   "source": [
    "#np.sort()排序\n",
    "a=np.array([[4,3,5],[1,6,1]])\n",
    "print(a)"
   ]
  },
  {
   "cell_type": "code",
   "execution_count": 116,
   "metadata": {},
   "outputs": [
    {
     "name": "stdout",
     "output_type": "stream",
     "text": [
      "[[3 4 5]\n",
      " [1 1 6]]\n"
     ]
    }
   ],
   "source": [
    "#按行大小排序\n",
    "b=np.sort(a,axis=1)   #指定所操作的维度，axis=0，表示列，axis=1,表示行\n",
    "print(b)\n",
    "#或者\n",
    "a.sort(axis=1)  #直接对数组a进行排序"
   ]
  },
  {
   "cell_type": "code",
   "execution_count": 117,
   "metadata": {},
   "outputs": [
    {
     "name": "stdout",
     "output_type": "stream",
     "text": [
      "[2 3 1 0]\n",
      "[1 2 3 4]\n"
     ]
    }
   ],
   "source": [
    "#np.argsort()  #排序的索引\n",
    "a2=np.array([4,3,1,2])\n",
    "j=np.argsort(a2)   #j将原数组a2中各元素的索引按元素值的大小排序后，索引的顺序，如4的索引为0，3的索引为1，依次类推\n",
    "print(j)\n",
    "print(a2[j])"
   ]
  },
  {
   "cell_type": "code",
   "execution_count": 126,
   "metadata": {},
   "outputs": [
    {
     "name": "stdout",
     "output_type": "stream",
     "text": [
      "[[1 1]\n",
      " [0 1]]\n",
      "[[2 0]\n",
      " [3 4]]\n",
      "[[2 0]\n",
      " [0 4]]\n",
      "[[2 0]\n",
      " [0 4]]\n",
      "[[3 3]\n",
      " [0 3]]\n",
      "[[5 4]\n",
      " [3 4]]\n",
      "[[5 4]\n",
      " [3 4]]\n"
     ]
    }
   ],
   "source": [
    "#矩阵元素相乘\n",
    "#将对应位置的元素相乘\n",
    "#使用*来连接两个np矩阵，如n1*n2\n",
    "#或者np.multiply(n1,n2) ，\n",
    "# 1. 当为array的时候，默认d*f就是对应元素的乘积，multiply也是对应元素的乘积，dot（d,f）会转化为矩阵的乘积， dot点乘意味着相加，而multiply只是对应元素相乘，不相加\n",
    "# 2. 当为mat的时候，默认d*f就是矩阵的乘积，multiply转化为对应元素的乘积，dot（d,f）为矩阵的乘积\n",
    "n1=np.array([[1,1],\n",
    "             [0,1]])\n",
    "n2=np.array([[2,0],\n",
    "             [3,4]])\n",
    "print(n1)\n",
    "print(n2)\n",
    "print(n1*n2)        #仅为两数组的对对应项元素的乘积\n",
    "print(multiply(n1,n2))  #与用*连接等价，仅为两数组的对应项元素的乘积\n",
    "print(np.multiply(n1,3))   #数组n1的各对应元素均乘以3\n",
    "print(dot(n1,n2))    #矩阵的乘法，同线性代数中矩阵乘法\n",
    "print(matmul(n1,n2))  #np.matmul(a,b,out=None)与np.dot功能一样。"
   ]
  },
  {
   "cell_type": "code",
   "execution_count": null,
   "metadata": {},
   "outputs": [],
   "source": [
    "#"
   ]
  }
 ],
 "metadata": {
  "kernelspec": {
   "display_name": "Python 3",
   "language": "python",
   "name": "python3"
  },
  "language_info": {
   "codemirror_mode": {
    "name": "ipython",
    "version": 3
   },
   "file_extension": ".py",
   "mimetype": "text/x-python",
   "name": "python",
   "nbconvert_exporter": "python",
   "pygments_lexer": "ipython3",
   "version": "3.7.2"
  }
 },
 "nbformat": 4,
 "nbformat_minor": 2
}
