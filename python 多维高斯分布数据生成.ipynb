{
 "cells": [
  {
   "cell_type": "code",
   "execution_count": 1,
   "metadata": {},
   "outputs": [
    {
     "name": "stdout",
     "output_type": "stream",
     "text": [
      "导入成功\n"
     ]
    }
   ],
   "source": [
    "import numpy as np\n",
    "import pandas as pd\n",
    "import matplotlib.pyplot as plt\n",
    "print('导入成功')\n",
    "# pd.set_option(\"display.max_columns\",200)\n",
    "# pd.set_option(\"max_row\",200)\n",
    "# pd.set_option(\"display.float_format\",lambda x: \"%.2f\" % x)"
   ]
  },
  {
   "cell_type": "code",
   "execution_count": 8,
   "metadata": {},
   "outputs": [
    {
     "data": {
      "image/png": "[encoded data removed]",
      "text/plain": [
       "<Figure size 432x288 with 1 Axes>"
      ]
     },
     "metadata": {
      "needs_background": "light"
     },
     "output_type": "display_data"
    }
   ],
   "source": [
    "def gen_clusters():\n",
    "    mean1=[0,0]\n",
    "    cov1=[[1,0],[0,10]]\n",
    "    data=np.random.multivariate_normal(mean1,cov1,100)\n",
    "\n",
    "    mean2=[10,10]\n",
    "    cov2=[[10,0],[0,1]]\n",
    "    data=np.append(data,np.random.multivariate_normal(mean2,cov2,100),0)\n",
    "    mean3=[10,0]\n",
    "    cov3=[[3,0],[0,4]]\n",
    "    data=np.append(data,np.random.multivariate_normal(mean3,cov3,100),0)\n",
    "    return np.round(data,4)   #np.around 返回四舍五入后的值，可指定精度，\n",
    "    #around(a, decimals=0, out=None)，a 输入数组，decimals 要舍入的小数位数。 默认值为0。 如果为负，整数将四舍五入到小数点左侧的位置\n",
    "\n",
    "def save_data(data,filename):\n",
    "\twith open(filename,'w') as file:\n",
    "\t\tfor i in range(data.shape[0]):\n",
    "\t\t\tfile.write(str(data[i,0])+','+str(data[i,1])+'\\n')\n",
    "\n",
    "def load_data(filename):\n",
    "\tdata=[]\n",
    "\twith open(filename,'r') as file:\n",
    "\t\tfor line in file.readlines():\n",
    "\t\t\tdata.append([float(i) for i in line.split(',')])\n",
    "\treturn np.array(data)\n",
    "\n",
    "def show_scatter(data):\n",
    "\tx,y=data.T\n",
    "\tplt.scatter(x,y)\n",
    "\tplt.axis()\n",
    "\tplt.title('scatter')\n",
    "\tplt.xlabel('x')\n",
    "\tplt.ylabel('y')\n",
    "\n",
    "data=gen_clusters()\n",
    "save_data(data,'3clusters.txt')\n",
    "d=load_data('3clusters.txt')\n",
    "show_scatter(d)"
   ]
  },
  {
   "cell_type": "code",
   "execution_count": 25,
   "metadata": {},
   "outputs": [
    {
     "name": "stdout",
     "output_type": "stream",
     "text": [
      "[[[-0.02035963  2.79362756]\n",
      "  [ 1.52210253  1.25649869]]\n",
      "\n",
      " [[ 1.21987399  2.5292418 ]\n",
      "  [ 1.67013603  2.87895882]]]\n"
     ]
    }
   ],
   "source": [
    "import numpy as np\n",
    "mean=(1,2)\n",
    "cov=[[1,0],[0,1]]\n",
    "x=np.random.multivariate_normal(mean,cov,(2,2),'raise')\n",
    "print(x)"
   ]
  },
  {
   "cell_type": "code",
   "execution_count": 34,
   "metadata": {},
   "outputs": [
    {
     "name": "stderr",
     "output_type": "stream",
     "text": [
      "c:\\users\\evan\\appdata\\local\\programs\\python\\python37\\lib\\site-packages\\ipykernel_launcher.py:4: RuntimeWarning: covariance is not symmetric positive-semidefinite.\n",
      "  after removing the cwd from sys.path.\n"
     ]
    },
    {
     "data": {
      "text/plain": [
       "array([[ 0.71297594,  2.47296282],\n",
       "       [-1.15079462,  0.26879572],\n",
       "       [ 1.24953037,  1.06155655],\n",
       "       [ 3.31932598,  2.63042057],\n",
       "       [ 0.52508056,  2.01427131]])"
      ]
     },
     "execution_count": 34,
     "metadata": {},
     "output_type": "execute_result"
    }
   ],
   "source": [
    "import numpy as np\n",
    "A1_mean=[1,1]\n",
    "A1_cov=[[2.0,0.99],[1,1]]\n",
    "A1=np.random.multivariate_normal(A1_mean,A1_cov,5)  #依据指定的均值和协方差生成数据\n",
    "A1"
   ]
  },
  {
   "cell_type": "code",
   "execution_count": 35,
   "metadata": {},
   "outputs": [
    {
     "data": {
      "text/plain": [
       "1.310412520483211"
      ]
     },
     "execution_count": 35,
     "metadata": {},
     "output_type": "execute_result"
    }
   ],
   "source": [
    "#验证生成数据\n",
    "np.mean(A1)  #求全体数的均值\n"
   ]
  },
  {
   "cell_type": "code",
   "execution_count": 36,
   "metadata": {},
   "outputs": [
    {
     "data": {
      "text/plain": [
       "array([0.93122365, 1.68960139])"
      ]
     },
     "execution_count": 36,
     "metadata": {},
     "output_type": "execute_result"
    }
   ],
   "source": [
    "np.mean(A1,axis=0)  #按列求均值（每列为一组）"
   ]
  },
  {
   "cell_type": "code",
   "execution_count": 37,
   "metadata": {},
   "outputs": [
    {
     "data": {
      "text/plain": [
       "array([ 1.59296938, -0.44099945,  1.15554346,  2.97487328,  1.26967593])"
      ]
     },
     "execution_count": 37,
     "metadata": {},
     "output_type": "execute_result"
    }
   ],
   "source": [
    "np.mean(A1,axis=1)   #按行求均值（每行为一组）"
   ]
  },
  {
   "cell_type": "code",
   "execution_count": 40,
   "metadata": {},
   "outputs": [
    {
     "data": {
      "text/plain": [
       "array([[2.58793407, 1.17554392],\n",
       "       [1.17554392, 1.00433387]])"
      ]
     },
     "execution_count": 40,
     "metadata": {},
     "output_type": "execute_result"
    }
   ],
   "source": [
    "np.cov(A1.T)  #转置后求协方差（和预计的差不多）"
   ]
  },
  {
   "cell_type": "code",
   "execution_count": 41,
   "metadata": {},
   "outputs": [
    {
     "data": {
      "text/plain": [
       "(5, 5)"
      ]
     },
     "execution_count": 41,
     "metadata": {},
     "output_type": "execute_result"
    }
   ],
   "source": [
    "np.cov(A1).shape  #没有转置，即：5*5的矩阵"
   ]
  },
  {
   "cell_type": "code",
   "execution_count": 42,
   "metadata": {},
   "outputs": [
    {
     "data": {
      "text/plain": [
       "array([[ 1.5487769 ,  1.24923019, -0.16541573, -0.60623224,  1.31047809],\n",
       "       [ 1.24923019,  1.00761837, -0.13342291, -0.48898173,  1.0570204 ],\n",
       "       [-0.16541573, -0.13342291,  0.01766708,  0.06474809, -0.13996444],\n",
       "       [-0.60623224, -0.48898173,  0.06474809,  0.23729533, -0.51295578],\n",
       "       [ 1.31047809,  1.0570204 , -0.13996444, -0.51295578,  1.10884454]])"
      ]
     },
     "execution_count": 42,
     "metadata": {},
     "output_type": "execute_result"
    }
   ],
   "source": [
    "np.cov(A1)"
   ]
  },
  {
   "cell_type": "code",
   "execution_count": 53,
   "metadata": {},
   "outputs": [
    {
     "data": {
      "image/png": "[encoded data removed]",
      "text/plain": [
       "<Figure size 432x288 with 1 Axes>"
      ]
     },
     "metadata": {
      "needs_background": "light"
     },
     "output_type": "display_data"
    }
   ],
   "source": [
    "mean=[0,0]\n",
    "cov=[[1,0],[0,100]]\n",
    "import matplotlib.pyplot as plt\n",
    "x, y = np.random.multivariate_normal(mean, cov, 5000).T\n",
    "plt.plot(x, y, 'x')\n",
    "plt.axis('equal')\n",
    "plt.show()"
   ]
  },
  {
   "cell_type": "code",
   "execution_count": 54,
   "metadata": {},
   "outputs": [
    {
     "data": {
      "text/plain": [
       "(3, 4, 2)"
      ]
     },
     "execution_count": 54,
     "metadata": {},
     "output_type": "execute_result"
    }
   ],
   "source": [
    "mean=(1,2)\n",
    "cov=[[1,0],[0,1]]\n",
    "x=np.random.multivariate_normal(mean,cov,(3,4))\n",
    "x.shape"
   ]
  },
  {
   "cell_type": "code",
   "execution_count": 55,
   "metadata": {},
   "outputs": [
    {
     "data": {
      "text/plain": [
       "[True, True]"
      ]
     },
     "execution_count": 55,
     "metadata": {},
     "output_type": "execute_result"
    }
   ],
   "source": [
    "list((x[0,0,:]-mean)<0.6)"
   ]
  },
  {
   "cell_type": "code",
   "execution_count": null,
   "metadata": {},
   "outputs": [],
   "source": []
  }
 ],
 "metadata": {
  "kernelspec": {
   "display_name": "Python 3",
   "language": "python",
   "name": "python3"
  },
  "language_info": {
   "codemirror_mode": {
    "name": "ipython",
    "version": 3
   },
   "file_extension": ".py",
   "mimetype": "text/x-python",
   "name": "python",
   "nbconvert_exporter": "python",
   "pygments_lexer": "ipython3",
   "version": "3.7.2"
  }
 },
 "nbformat": 4,
 "nbformat_minor": 2
}
