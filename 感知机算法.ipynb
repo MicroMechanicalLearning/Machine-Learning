{
 "cells": [
  {
   "cell_type": "code",
   "execution_count": 1,
   "metadata": {},
   "outputs": [
    {
     "name": "stdout",
     "output_type": "stream",
     "text": [
      "导入成功\n"
     ]
    }
   ],
   "source": [
    "import numpy as np\n",
    "from matplotlib import pyplot as plt\n",
    "%matplotlib inline\n",
    "print('导入成功')"
   ]
  },
  {
   "cell_type": "code",
   "execution_count": 6,
   "metadata": {},
   "outputs": [
    {
     "data": {
      "image/png": "[encoded data removed]",
      "text/plain": [
       "<Figure size 432x288 with 1 Axes>"
      ]
     },
     "metadata": {
      "needs_background": "light"
     },
     "output_type": "display_data"
    }
   ],
   "source": [
    "#定义一个绘制点的函数\n",
    "def draw_pts(x,y):\n",
    "    for i in range(len(y)):\n",
    "        if y[i]==1:\n",
    "            plt.plot(x[i][0],x[i][1],'ro')\n",
    "        else:\n",
    "            plt.plot(x[i][0],x[i][1],'bo')\n",
    "\n",
    "def draw_line(w,b):\n",
    "    line_x=[0,10]\n",
    "    line_y=[0,0]\n",
    "    for i in range(len(line_x)):\n",
    "        line_y[i]=(-w[0]*line_x[i]-b)/(w[1]+1e-6)\n",
    "    plt.plot(line_x,line_y)\n",
    "        \n",
    "x=np.array([[3,3],[4,3],[1,1]])\n",
    "y=np.array([1,1,-1])\n",
    "\n",
    "draw_pts(x,y)\n",
    "w=[0,0]\n",
    "b=0\n",
    "lr=1   #学习率\n",
    "#感知机原始形式\n",
    "for j in range(100):\n",
    "    wrong_pt_cnt=0\n",
    "    for i in range(len(y)):\n",
    "        if y[i]!=np.sign(np.dot(w,x[i])+b):\n",
    "            w=w+lr*y[i]*x[i]\n",
    "    #         b=b+lr*y[i]\n",
    "            b+=lr*y[i]\n",
    "        wrong_pt_cnt+=1\n",
    "\n",
    "        if wrong_pt_cnt==0:\n",
    "            break\n",
    "draw_line(w,b)        \n"
   ]
  },
  {
   "cell_type": "code",
   "execution_count": null,
   "metadata": {},
   "outputs": [],
   "source": []
  }
 ],
 "metadata": {
  "kernelspec": {
   "display_name": "Python 3",
   "language": "python",
   "name": "python3"
  },
  "language_info": {
   "codemirror_mode": {
    "name": "ipython",
    "version": 3
   },
   "file_extension": ".py",
   "mimetype": "text/x-python",
   "name": "python",
   "nbconvert_exporter": "python",
   "pygments_lexer": "ipython3",
   "version": "3.7.2"
  }
 },
 "nbformat": 4,
 "nbformat_minor": 2
}
