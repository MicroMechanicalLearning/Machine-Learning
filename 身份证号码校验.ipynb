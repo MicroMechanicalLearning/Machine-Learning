{
 "cells": [
  {
   "cell_type": "code",
   "execution_count": 56,
   "metadata": {},
   "outputs": [
    {
     "name": "stdout",
     "output_type": "stream",
     "text": [
      "14\n",
      "12\n",
      "{}\n"
     ]
    }
   ],
   "source": [
    "# 不用init()方法定义类\n",
    "# 定义一个矩形的类，目的是求周长和面积\n",
    "class Rectangle():\n",
    "    def getPeri(self,a,b):\n",
    "        return (a+b)*2\n",
    "    def getArea(self,a,b):\n",
    "        return a*b\n",
    "\n",
    "rect=Rectangle()\n",
    "print(rect.getPeri(3,4))\n",
    "print(rect.getArea(3,4))\n",
    "print(rect.__dict__)"
   ]
  },
  {
   "cell_type": "code",
   "execution_count": 57,
   "metadata": {},
   "outputs": [
    {
     "name": "stdout",
     "output_type": "stream",
     "text": [
      "14\n",
      "12\n",
      "{'a': 3, 'b': 4}\n"
     ]
    }
   ],
   "source": [
    "class Rectangle():\n",
    "    def __init__(self,a,b):\n",
    "        self.a=a\n",
    "        self.b=b\n",
    "    def getPeri(self):\n",
    "        return (self.a + self.b)*2\n",
    "    def getArea(self):\n",
    "        return self.a * self.b\n",
    "\n",
    "rect = Rectangle(3,4)\n",
    "print(rect.getPeri())\n",
    "print(rect.getArea())\n",
    "print(rect.__dict__)"
   ]
  },
  {
   "cell_type": "code",
   "execution_count": 52,
   "metadata": {},
   "outputs": [
    {
     "name": "stdout",
     "output_type": "stream",
     "text": [
      "tom score is 8\n",
      "Jerry score is 7\n"
     ]
    }
   ],
   "source": [
    "class Game:  #定义类Game\n",
    "    def __init__(self,name,score):  #创建类中的函数，也叫方法\n",
    "        self.name=name\n",
    "        self.score=score\n",
    "    def print_score(self):\n",
    "        print(\"%s score is %s\"% (self.name,self.score))\n",
    "s1=Game(\"tom\",8)  #创建对象s1\n",
    "s2=Game(\"Jerry\",7)  #创建对象s2\n",
    "s1.print_score()\n",
    "s2.print_score()"
   ]
  },
  {
   "cell_type": "code",
   "execution_count": 55,
   "metadata": {},
   "outputs": [
    {
     "name": "stdout",
     "output_type": "stream",
     "text": [
      "Tom score is 8\n",
      "Jerry score is 7\n"
     ]
    }
   ],
   "source": [
    "class Game:# 定义Game类\n",
    "    def __init__(self):   #创建类中的函数，也叫方法\n",
    "        self.name=None\n",
    "        self.score=None\n",
    "    \n",
    "    def print_score(self):\n",
    "        print(\"%s score is %s\"% (self.name,self.score))\n",
    "        \n",
    "\n",
    "s1=Game()   #创建对象1\n",
    "s1.name='Tom'\n",
    "s1.score=8\n",
    "\n",
    "s2=Game()  #创建对象2\n",
    "s2.name='Jerry'\n",
    "s2.score=7\n",
    "\n",
    "s1.print_score()\n",
    "s2.print_score()"
   ]
  },
  {
   "cell_type": "code",
   "execution_count": null,
   "metadata": {},
   "outputs": [],
   "source": [
    "#身份证号码校验，长度校验（即：是否满足18位）\n",
    "ID=input(\"请输入18位身份证号码：\")\n",
    "if len(ID)==18:\n",
    "    print('你的身份证号码是'+ID)\n",
    "else:\n",
    "    print('错误的身份证号码')"
   ]
  },
  {
   "cell_type": "code",
   "execution_count": null,
   "metadata": {},
   "outputs": [],
   "source": [
    "ID_address=ID[0:6]  #六位数字地址码,ID_add是身份证中的区域代码，如果有一个行政区划代码字典，就可以用获取大致地址;\n",
    "ID_birth=ID[6:14]   #八位数字出生日期码\n",
    "ID_sex=ID[14:17]    #三位数字顺序码\n",
    "ID_sheck=ID[17]     #一位数字校验码"
   ]
  },
  {
   "cell_type": "code",
   "execution_count": null,
   "metadata": {},
   "outputs": [],
   "source": [
    "#年龄信息处理\n",
    "year=ID_birth[0:4]\n",
    "month=ID_birth[4:6]\n",
    "day=ID_birth[6:8]\n",
    "print(\"你的生日：\"+year+\"年\"+month+\"月\"+day+\"日\")"
   ]
  },
  {
   "cell_type": "code",
   "execution_count": null,
   "metadata": {},
   "outputs": [],
   "source": [
    "#性别甄别\n",
    "if int(ID_sex)%2==0:\n",
    "    print(\"性别：女\")\n",
    "else:\n",
    "    print(\"性别：男\")"
   ]
  },
  {
   "cell_type": "code",
   "execution_count": null,
   "metadata": {},
   "outputs": [],
   "source": [
    "from datetime import date\n",
    "class IDnumber():\n",
    "    '''身份证号码类'''\n",
    "    #类属性 IDnumber.address_codes 单元包含了身份证前6位的行政区划分码\n",
    "    address_codes={\n",
    "        '110000':'北京市',\n",
    "        '810000':'湾仔区',\n",
    "        '810000':'中西区'\n",
    "    }\n",
    "    #类属性IDnumber。provinces 单元包含了省级行政区划分代码\n",
    "    provinces={\n",
    "        \"11\":\"北京市\",\n",
    "        '12':'天津市', \n",
    "        '13':'河北省',\n",
    "        '14':'山西省',\n",
    "        '15':'内蒙古自治区',\n",
    "        '21':'辽宁省',\n",
    "        '22':'吉林省',\n",
    "        '23':'黑龙江省',\n",
    "        '31':'上海市',\n",
    "        '32':'江苏省',\n",
    "        '33':'浙江省',\n",
    "        '34':'安徽省',\n",
    "        '35':'福建省',\n",
    "        '36':'江西省',\n",
    "        '37':'山东省',\n",
    "        '41':'河南省',\n",
    "        '42':'湖北省',\n",
    "        '43':'湖南省',\n",
    "        '44':'广东省',\n",
    "        '45':'广西省',\n",
    "        '46':'海南省', \n",
    "        '50':'重庆市',\n",
    "        '51':'四川省',\n",
    "        '52':'贵州省',\n",
    "        '53':'云南省',\n",
    "        '54':'西藏自治区',\n",
    "        '61':'陕西省',\n",
    "        '62':'甘肃省', \n",
    "        '63':'青海省',\n",
    "        '64':'宁夏回族自治区',\n",
    "        '65':'新疆维吾尔族自治区',\n",
    "        '71':'台湾省',\n",
    "        '81':'香港特别行政区'\n",
    "    }\n",
    "    #类存储了IDnumber.weights列表储存乘法权重\n",
    "    weights=[7, 9, 10, 5, 8, 4, 2, 1, 6, 3, 7, 9, 10, 5, 8, 4, 2]\n",
    "    #类属性 IDnumber.mod_codes 单元储存了余数和正确校验码的对应关系\n",
    "    mod_codes={\n",
    "        '0':'1','1':'0','2':'X','3':'9','4':'8','5':'7',\n",
    "        '6':'6','7':'5','8':'4','9':'3','10':'2'\n",
    "    }\n",
    "    def _int_(self,flag):\n",
    "        self.flag=True  #判断输入是否合法的标志\n",
    "    "
   ]
  },
  {
   "cell_type": "code",
   "execution_count": 1,
   "metadata": {},
   "outputs": [],
   "source": [
    "import pandas as pd\n",
    "import datetime\n",
    "weights = [7,9,10,5,8,4,2,1,6,3,7,9,10,5,8,4,2]"
   ]
  },
  {
   "cell_type": "code",
   "execution_count": 41,
   "metadata": {},
   "outputs": [],
   "source": [
    "a=str('140624198904170522')\n",
    "# a=a.strip()\n",
    "a_list=list(a)"
   ]
  },
  {
   "cell_type": "code",
   "execution_count": 28,
   "metadata": {},
   "outputs": [
    {
     "data": {
      "text/plain": [
       "'1'"
      ]
     },
     "execution_count": 28,
     "metadata": {},
     "output_type": "execute_result"
    }
   ],
   "source": [
    "a_list[0]"
   ]
  },
  {
   "cell_type": "code",
   "execution_count": 50,
   "metadata": {},
   "outputs": [
    {
     "name": "stdout",
     "output_type": "stream",
     "text": [
      "[7, 9, 10, 5, 8, 4, 2, 1, 6, 3, 7, 9, 10, 5, 8, 4, 2]\n"
     ]
    }
   ],
   "source": [
    "w=list(range(17))\n",
    "weight=[]   #身份证每一位数字的权重\n",
    "# print(w)\n",
    "for i in range(len(w)):\n",
    "    w[i]=2**(17-i)%11\n",
    "    weight.append(w[i])   #list.append(obj),obj -- 添加到列表末尾的对象。\n",
    "print(weight)"
   ]
  },
  {
   "cell_type": "code",
   "execution_count": 49,
   "metadata": {},
   "outputs": [
    {
     "name": "stdout",
     "output_type": "stream",
     "text": [
      "7\n",
      "43\n",
      "43\n",
      "73\n",
      "89\n",
      "105\n",
      "107\n",
      "116\n",
      "164\n",
      "191\n",
      "191\n",
      "227\n",
      "237\n",
      "272\n",
      "272\n",
      "292\n",
      "296\n",
      "False\n"
     ]
    }
   ],
   "source": [
    "sum_weight=0\n",
    "for i in range(17):\n",
    "    sum_weight+=int(a[i])*int(w[i])\n",
    "    print(sum_weight)\n",
    "if(sum_weight%11==1):\n",
    "    print('True')\n",
    "else:\n",
    "    print('False')"
   ]
  },
  {
   "cell_type": "code",
   "execution_count": 46,
   "metadata": {},
   "outputs": [
    {
     "data": {
      "text/plain": [
       "10"
      ]
     },
     "execution_count": 46,
     "metadata": {},
     "output_type": "execute_result"
    }
   ],
   "source": [
    "sum_weight%11"
   ]
  },
  {
   "cell_type": "code",
   "execution_count": null,
   "metadata": {},
   "outputs": [],
   "source": []
  }
 ],
 "metadata": {
  "kernelspec": {
   "display_name": "Python 3",
   "language": "python",
   "name": "python3"
  },
  "language_info": {
   "codemirror_mode": {
    "name": "ipython",
    "version": 3
   },
   "file_extension": ".py",
   "mimetype": "text/x-python",
   "name": "python",
   "nbconvert_exporter": "python",
   "pygments_lexer": "ipython3",
   "version": "3.7.2"
  }
 },
 "nbformat": 4,
 "nbformat_minor": 2
}
