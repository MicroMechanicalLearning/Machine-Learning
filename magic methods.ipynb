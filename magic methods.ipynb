{
 "cells": [
  {
   "cell_type": "code",
   "execution_count": 5,
   "metadata": {},
   "outputs": [
    {
     "name": "stdout",
     "output_type": "stream",
     "text": [
      "this is in A.__new__,and x is  100\n",
      "this is in A.__init__,and y is  100\n",
      "==================================================\n",
      "this is in B.__new__,and z is  200\n",
      "this is in A.__new__,and x is  200\n",
      "this is in B.__init__,and m is  200\n",
      "<class '__main__.B'>\n",
      "==================================================\n",
      "this is in C.__new__,and n is  300\n",
      "this is in C.__init__,and a is  300\n"
     ]
    }
   ],
   "source": [
    "class A(object):\n",
    "    def __new__(cls,x):\n",
    "        print('this is in A.__new__,and x is ',x)\n",
    "        return super(A,cls).__new__(cls)\n",
    "    \n",
    "    def __init__(self,y):\n",
    "        print('this is in A.__init__,and y is ',y)\n",
    "class C(object):\n",
    "    def __new__(cls,n):\n",
    "        print('this is in C.__new__,and n is ',n)\n",
    "        return super(C,cls).__new__(cls)\n",
    "    \n",
    "    def __init__(self,a):\n",
    "        print('this is in C.__init__,and a is ',a)\n",
    "class B(A):\n",
    "    def __new__(cls,z):\n",
    "        print('this is in B.__new__,and z is ',z)\n",
    "        return A.__new__(cls,z)\n",
    "    \n",
    "    def __init__(self,m):\n",
    "        print('this is in B.__init__,and m is ',m)\n",
    "\n",
    "if __name__==\"__main__\":\n",
    "    a=A(100)\n",
    "    print('='*50)\n",
    "    b=B(200)\n",
    "    print(type(b))\n",
    "    print('='*50)\n",
    "    c=C(300)\n",
    "    "
   ]
  },
  {
   "cell_type": "code",
   "execution_count": 10,
   "metadata": {},
   "outputs": [
    {
     "name": "stdout",
     "output_type": "stream",
     "text": [
      "this is in B.__new__,and z is  400\n",
      "this is in B.__init__,and m is  400\n"
     ]
    }
   ],
   "source": [
    "class B(A):\n",
    "    def __new__(cls,z):\n",
    "        print('this is in B.__new__,and z is ',z)\n",
    "        return object.__new__(cls)\n",
    "    def __init__(self,m):\n",
    "        print('this is in B.__init__,and m is ',m)\n",
    "d=B(400)"
   ]
  },
  {
   "cell_type": "code",
   "execution_count": 11,
   "metadata": {},
   "outputs": [
    {
     "name": "stdout",
     "output_type": "stream",
     "text": [
      "Hello,Python.\n"
     ]
    }
   ],
   "source": [
    "class Foo:\n",
    "    def bar(self,message):\n",
    "        print(message)\n",
    "Foo().bar(\"Hello,Python.\")"
   ]
  },
  {
   "cell_type": "code",
   "execution_count": 12,
   "metadata": {},
   "outputs": [
    {
     "name": "stdout",
     "output_type": "stream",
     "text": [
      "Hello\n"
     ]
    }
   ],
   "source": [
    "class Foo:  #定义一个类\n",
    "    def bar(self,message):  #定义类中的方法bar\n",
    "        print(message)\n",
    "        \n",
    "a=Foo()   #定义变量a指向类Foo的实例化对象Foo()\n",
    "a.bar(\"Hello\")  #变量a调用类Foo的方法bar(),\"hello\"为传递给形参“message”的实参"
   ]
  },
  {
   "cell_type": "code",
   "execution_count": 13,
   "metadata": {},
   "outputs": [
    {
     "name": "stdout",
     "output_type": "stream",
     "text": [
      "Hello,Python.\n"
     ]
    }
   ],
   "source": [
    "class FooParent:  #定义父类FooParent\n",
    "    def bar(self,message):  #定义父类的方法bar\n",
    "        print(message)\n",
    "class FooChild(FooParent):  #定义子类FooChild\n",
    "    def bar(self,message):  #定义子类的方法bar\n",
    "        FooParent.bar(self,message)  #在子类中直接调用父类的方法，此时需将“对象调用”转换为“类调用”\n",
    "                                     #此时self参数需要显式传递\n",
    "FooChild().bar(\"Hello,Python.\")"
   ]
  },
  {
   "cell_type": "code",
   "execution_count": 14,
   "metadata": {},
   "outputs": [
    {
     "name": "stdout",
     "output_type": "stream",
     "text": [
      "Hello,Python.\n"
     ]
    }
   ],
   "source": [
    "class FooParent:\n",
    "    def bar(self,message):\n",
    "        print(message)\n",
    "class FooChild(FooParent):\n",
    "    def bar(self,message):\n",
    "        super(FooChild,self).bar(message)\n",
    "        \n",
    "FooChild().bar(\"Hello,Python.\")"
   ]
  },
  {
   "cell_type": "code",
   "execution_count": 16,
   "metadata": {},
   "outputs": [
    {
     "name": "stdout",
     "output_type": "stream",
     "text": [
      "Enter E\n",
      "Enter B\n",
      "Enter A\n",
      "Leave A\n",
      "Leave B\n",
      "Enter C\n",
      "Enter A\n",
      "Leave A\n",
      "Leave C\n",
      "Enter D\n",
      "Enter A\n",
      "Leave A\n",
      "Leave D\n",
      "Leave E\n"
     ]
    },
    {
     "data": {
      "text/plain": [
       "<__main__.E at 0x17392340588>"
      ]
     },
     "execution_count": 16,
     "metadata": {},
     "output_type": "execute_result"
    }
   ],
   "source": [
    "class A:  #定义父类A\n",
    "    def __init__(self):  #定义父类A的初始化方法\n",
    "        print(\"Enter A\")\n",
    "        print(\"Leave A\")\n",
    "class B(A):  #定义继承子类B\n",
    "    def __init__(self):\n",
    "        print(\"Enter B\")\n",
    "        A.__init__(self)\n",
    "        print(\"Leave B\")\n",
    "class C(A):\n",
    "    def __init__(self):\n",
    "        print(\"Enter C\")\n",
    "        A.__init__(self)\n",
    "        print(\"Leave C\")\n",
    "class D(A):\n",
    "    def __init__(self):\n",
    "        print(\"Enter D\")\n",
    "        A.__init__(self)\n",
    "        print(\"Leave D\")\n",
    "class E(B,C,D):\n",
    "    def __init__(self):\n",
    "        print(\"Enter E\")\n",
    "        B.__init__(self)\n",
    "        C.__init__(self)\n",
    "        D.__init__(self)\n",
    "        print(\"Leave E\")\n",
    "\n",
    "E()"
   ]
  },
  {
   "cell_type": "code",
   "execution_count": 17,
   "metadata": {},
   "outputs": [
    {
     "name": "stdout",
     "output_type": "stream",
     "text": [
      "Enter E\n",
      "Enter B\n",
      "Enter C\n",
      "Enter D\n",
      "Enter A\n",
      "Leave A\n",
      "Leave D\n",
      "Leave C\n",
      "Leave B\n",
      "Leave E\n"
     ]
    },
    {
     "data": {
      "text/plain": [
       "<__main__.E at 0x17392340b38>"
      ]
     },
     "execution_count": 17,
     "metadata": {},
     "output_type": "execute_result"
    }
   ],
   "source": [
    "class A:\n",
    "    def __init__(self):\n",
    "        print(\"Enter A\")\n",
    "        print(\"Leave A\")\n",
    "class B(A):\n",
    "    def __init__(self):\n",
    "        print(\"Enter B\")\n",
    "        super(B,self).__init__()\n",
    "        print(\"Leave B\")\n",
    "class C(A):\n",
    "    def __init__(self):\n",
    "        print(\"Enter C\")\n",
    "        super(C,self).__init__()\n",
    "        print(\"Leave C\")\n",
    "class D(A):\n",
    "    def __init__(self):\n",
    "        print(\"Enter D\")\n",
    "        super(D,self).__init__()\n",
    "        print(\"Leave D\")\n",
    "class E(B,C,D):\n",
    "    def __init__(self):\n",
    "        print(\"Enter E\")\n",
    "        super(E,self).__init__()\n",
    "        print(\"Leave E\")\n",
    "        \n",
    "E()"
   ]
  },
  {
   "cell_type": "code",
   "execution_count": null,
   "metadata": {},
   "outputs": [],
   "source": []
  }
 ],
 "metadata": {
  "kernelspec": {
   "display_name": "Python 3",
   "language": "python",
   "name": "python3"
  },
  "language_info": {
   "codemirror_mode": {
    "name": "ipython",
    "version": 3
   },
   "file_extension": ".py",
   "mimetype": "text/x-python",
   "name": "python",
   "nbconvert_exporter": "python",
   "pygments_lexer": "ipython3",
   "version": "3.7.2"
  }
 },
 "nbformat": 4,
 "nbformat_minor": 2
}
