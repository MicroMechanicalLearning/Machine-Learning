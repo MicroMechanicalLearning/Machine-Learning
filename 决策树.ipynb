{
 "cells": [
  {
   "cell_type": "code",
   "execution_count": 1,
   "metadata": {},
   "outputs": [
    {
     "name": "stdout",
     "output_type": "stream",
     "text": [
      "导入成功\n"
     ]
    }
   ],
   "source": [
    "import numpy as np\n",
    "import pandas as pd\n",
    "from math import log\n",
    "import operator\n",
    "print('导入成功')\n",
    "pd.set_option(\"display.max_columns\",200)"
   ]
  },
  {
   "cell_type": "code",
   "execution_count": 10,
   "metadata": {},
   "outputs": [],
   "source": [
    "def load_data():\n",
    "    data=[[\"teenager\",\"high\",\"no\",\"same\",\"no\"],\n",
    "          [\"teenager\",\"high\",\"no\",\"good\",\"no\"],\n",
    "          [\"old_aged\",\"middle\",\"no\",\"same\",\"yes\"],\n",
    "          [\"old_aged\",\"low\",\"yes\",\"same\",\"yes\"],\n",
    "          [\"old_aged\",\"low\",\"yes\",\"good\",\"no\"],\n",
    "          [\"middle_aged\",\"low\",\"yes\",\"good\",\"yes\"],\n",
    "          [\"teenager\",\"low\",\"yes\",\"same\",\"yes\"],\n",
    "          [\"old_aged\",\"middle\",\"yes\",\"same\",\"yes\"],\n",
    "          [\"teenager\",\"middle\",\"yes\",\"good\",\"yes\"],\n",
    "          [\"middle_aged\",\"middle\",\"no\",\"good\",\"yes\"],\n",
    "          [\"middle_aged\",\"high\",\"yes\",\"same\",\"yes\"],\n",
    "          [\"old_aged\",\"middle\",\"no\",\"good\",\"no\"]]\n",
    "    features=['age','input','student','level']\n",
    "    return data,features"
   ]
  },
  {
   "cell_type": "code",
   "execution_count": 11,
   "metadata": {},
   "outputs": [],
   "source": [
    "if __name__==\"__main__\":\n",
    "\tdata,features=load_data()   #创造实例数据"
   ]
  },
  {
   "cell_type": "code",
   "execution_count": 12,
   "metadata": {},
   "outputs": [
    {
     "name": "stdout",
     "output_type": "stream",
     "text": [
      "[['teenager' 'high' 'no' 'same' 'no']\n",
      " ['teenager' 'high' 'no' 'good' 'no']\n",
      " ['old_aged' 'middle' 'no' 'same' 'yes']\n",
      " ['old_aged' 'low' 'yes' 'same' 'yes']\n",
      " ['old_aged' 'low' 'yes' 'good' 'no']\n",
      " ['middle_aged' 'low' 'yes' 'good' 'yes']\n",
      " ['teenager' 'low' 'yes' 'same' 'yes']\n",
      " ['old_aged' 'middle' 'yes' 'same' 'yes']\n",
      " ['teenager' 'middle' 'yes' 'good' 'yes']\n",
      " ['middle_aged' 'middle' 'no' 'good' 'yes']\n",
      " ['middle_aged' 'high' 'yes' 'same' 'yes']\n",
      " ['old_aged' 'middle' 'no' 'good' 'no']]\n",
      "==================================================\n",
      "['age', 'input', 'student', 'level']\n"
     ]
    }
   ],
   "source": [
    "data=np.array(data)\n",
    "print(data)\n",
    "print('='*50)\n",
    "print(features)"
   ]
  },
  {
   "cell_type": "code",
   "execution_count": null,
   "metadata": {},
   "outputs": [],
   "source": []
  }
 ],
 "metadata": {
  "kernelspec": {
   "display_name": "Python 3",
   "language": "python",
   "name": "python3"
  },
  "language_info": {
   "codemirror_mode": {
    "name": "ipython",
    "version": 3
   },
   "file_extension": ".py",
   "mimetype": "text/x-python",
   "name": "python",
   "nbconvert_exporter": "python",
   "pygments_lexer": "ipython3",
   "version": "3.7.2"
  }
 },
 "nbformat": 4,
 "nbformat_minor": 2
}
